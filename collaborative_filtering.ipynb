{
 "cells": [
  {
   "cell_type": "code",
   "execution_count": 1,
   "id": "18dea314",
   "metadata": {},
   "outputs": [],
   "source": [
    "import pandas as pd\n",
    "import numpy as np\n",
    "from sklearn.decomposition import TruncatedSVD"
   ]
  },
  {
   "cell_type": "code",
   "execution_count": 2,
   "id": "732a8bbe",
   "metadata": {},
   "outputs": [],
   "source": [
    "engagements_df = pd.read_csv(\"Engagements.csv\") "
   ]
  },
  {
   "cell_type": "code",
   "execution_count": 3,
   "id": "c04df5a9",
   "metadata": {},
   "outputs": [
    {
     "data": {
      "text/html": [
       "<div>\n",
       "<style scoped>\n",
       "    .dataframe tbody tr th:only-of-type {\n",
       "        vertical-align: middle;\n",
       "    }\n",
       "\n",
       "    .dataframe tbody tr th {\n",
       "        vertical-align: top;\n",
       "    }\n",
       "\n",
       "    .dataframe thead th {\n",
       "        text-align: right;\n",
       "    }\n",
       "</style>\n",
       "<table border=\"1\" class=\"dataframe\">\n",
       "  <thead>\n",
       "    <tr style=\"text-align: right;\">\n",
       "      <th></th>\n",
       "      <th>user_id</th>\n",
       "      <th>post_id</th>\n",
       "      <th>engagement</th>\n",
       "    </tr>\n",
       "  </thead>\n",
       "  <tbody>\n",
       "    <tr>\n",
       "      <th>0</th>\n",
       "      <td>U1</td>\n",
       "      <td>P52</td>\n",
       "      <td>1</td>\n",
       "    </tr>\n",
       "    <tr>\n",
       "      <th>1</th>\n",
       "      <td>U1</td>\n",
       "      <td>P44</td>\n",
       "      <td>0</td>\n",
       "    </tr>\n",
       "    <tr>\n",
       "      <th>2</th>\n",
       "      <td>U1</td>\n",
       "      <td>P1</td>\n",
       "      <td>1</td>\n",
       "    </tr>\n",
       "    <tr>\n",
       "      <th>3</th>\n",
       "      <td>U1</td>\n",
       "      <td>P4</td>\n",
       "      <td>1</td>\n",
       "    </tr>\n",
       "    <tr>\n",
       "      <th>4</th>\n",
       "      <td>U1</td>\n",
       "      <td>P65</td>\n",
       "      <td>0</td>\n",
       "    </tr>\n",
       "  </tbody>\n",
       "</table>\n",
       "</div>"
      ],
      "text/plain": [
       "  user_id post_id  engagement\n",
       "0      U1     P52           1\n",
       "1      U1     P44           0\n",
       "2      U1      P1           1\n",
       "3      U1      P4           1\n",
       "4      U1     P65           0"
      ]
     },
     "execution_count": 3,
     "metadata": {},
     "output_type": "execute_result"
    }
   ],
   "source": [
    "engagements_df.head()"
   ]
  },
  {
   "cell_type": "code",
   "execution_count": 4,
   "id": "468a0474",
   "metadata": {},
   "outputs": [
    {
     "data": {
      "text/plain": [
       "user_id       0\n",
       "post_id       0\n",
       "engagement    0\n",
       "dtype: int64"
      ]
     },
     "execution_count": 4,
     "metadata": {},
     "output_type": "execute_result"
    }
   ],
   "source": [
    "engagements_df.isnull().sum()"
   ]
  },
  {
   "cell_type": "code",
   "execution_count": null,
   "id": "facfc62d",
   "metadata": {},
   "outputs": [],
   "source": [
    "# Pivot to get a matrix: rows = users, columns = posts\n",
    "user_post_matrix = engagements_df.pivot(index='user_id', columns='post_id', values='engagement').fillna(0)"
   ]
  },
  {
   "cell_type": "code",
   "execution_count": null,
   "id": "32224b13",
   "metadata": {},
   "outputs": [],
   "source": [
    "# Keep lists of user_ids and post_ids for mapping later\n",
    "user_ids_cf = user_post_matrix.index.tolist()\n",
    "post_ids_cf = user_post_matrix.columns.tolist()"
   ]
  },
  {
   "cell_type": "code",
   "execution_count": 7,
   "id": "062bd970",
   "metadata": {},
   "outputs": [],
   "source": [
    "# 3. Apply SVD for Collaborative Filtering\n",
    "# ------------------------------\n",
    "n_factors = 10  # number of latent factors\n",
    "svd = TruncatedSVD(n_components=n_factors, random_state=42)"
   ]
  },
  {
   "cell_type": "code",
   "execution_count": 8,
   "id": "ee92791c",
   "metadata": {},
   "outputs": [],
   "source": [
    "# Fit SVD on the user-post matrix\n",
    "user_latent = svd.fit_transform(user_post_matrix)  # user latent features\n",
    "post_latent = svd.components_.T                    # post latent features\n"
   ]
  },
  {
   "cell_type": "code",
   "execution_count": 9,
   "id": "60492781",
   "metadata": {},
   "outputs": [],
   "source": [
    "# Reconstruct predicted engagement scores\n",
    "predicted_scores = np.dot(user_latent, post_latent.T)"
   ]
  },
  {
   "cell_type": "code",
   "execution_count": 10,
   "id": "d25f2f2d",
   "metadata": {},
   "outputs": [],
   "source": [
    "# 4. Get Top-3 Recommendations per User\n",
    "# ------------------------------\n",
    "top_k = 3\n",
    "cf_recommendations = {}\n",
    "\n",
    "for i, user in enumerate(user_ids_cf):\n",
    "    # Get indices of top-k posts for this user\n",
    "    top_indices = predicted_scores[i].argsort()[::-1][:top_k]\n",
    "    # Map indices back to post_id\n",
    "    top_posts = [post_ids_cf[j] for j in top_indices]\n",
    "    cf_recommendations[user] = top_posts\n",
    "\n",
    "# ------------------------------\n",
    "# 5. Output Collaborative Filtering Recommendations\n",
    "# ------------------------------\n",
    "cf_recommendations_df = pd.DataFrame([\n",
    "    {\"user_id\": user, \"top_posts\": top_posts} for user, top_posts in cf_recommendations.items()\n",
    "])"
   ]
  },
  {
   "cell_type": "code",
   "execution_count": 12,
   "id": "fa6c722f",
   "metadata": {},
   "outputs": [
    {
     "name": "stdout",
     "output_type": "stream",
     "text": [
      "Top 3 CF recommended posts for U18: ['P96', 'P50', 'P91']\n"
     ]
    }
   ],
   "source": [
    "# Example: test for user_id \"U17\"\n",
    "test_user = \"U18\"\n",
    "\n",
    "if test_user in cf_recommendations:\n",
    "    print(f\"Top {top_k} CF recommended posts for {test_user}: {cf_recommendations[test_user]}\")\n",
    "else:\n",
    "    print(f\"User {test_user} not found in the dataset.\")\n"
   ]
  },
  {
   "cell_type": "code",
   "execution_count": 13,
   "id": "270ab4a1",
   "metadata": {},
   "outputs": [],
   "source": [
    "cf_recommendations_df.to_csv(\"collaborative_filtering_recommendations.csv\", index=False)"
   ]
  },
  {
   "cell_type": "code",
   "execution_count": 14,
   "id": "936cfaa8",
   "metadata": {},
   "outputs": [],
   "source": [
    "import numpy as np\n",
    "\n",
    "# Save CF predicted scores\n",
    "np.save(\"cf_score_matrix.npy\", predicted_scores)\n",
    "np.save(\"user_ids_cf.npy\", np.array(user_ids_cf))\n",
    "np.save(\"post_ids_cf.npy\", np.array(post_ids_cf))\n"
   ]
  }
 ],
 "metadata": {
  "kernelspec": {
   "display_name": "Python 3",
   "language": "python",
   "name": "python3"
  },
  "language_info": {
   "codemirror_mode": {
    "name": "ipython",
    "version": 3
   },
   "file_extension": ".py",
   "mimetype": "text/x-python",
   "name": "python",
   "nbconvert_exporter": "python",
   "pygments_lexer": "ipython3",
   "version": "3.13.3"
  }
 },
 "nbformat": 4,
 "nbformat_minor": 5
}
